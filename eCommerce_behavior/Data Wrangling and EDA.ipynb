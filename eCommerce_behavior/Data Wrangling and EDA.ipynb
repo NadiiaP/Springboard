{
 "cells": [
  {
   "cell_type": "code",
   "execution_count": 86,
   "id": "aca4aa59",
   "metadata": {},
   "outputs": [],
   "source": [
    "import pandas as pd\n",
    "import numpy as np\n",
    "import matplotlib.pyplot as plt\n",
    "import squarify\n",
    "import seaborn as sns"
   ]
  },
  {
   "cell_type": "code",
   "execution_count": 39,
   "id": "e49f80c3",
   "metadata": {},
   "outputs": [],
   "source": [
    "df = pd.read_csv(\"2019-Nov.csv\")"
   ]
  },
  {
   "cell_type": "code",
   "execution_count": 40,
   "id": "c492c63d",
   "metadata": {},
   "outputs": [
    {
     "data": {
      "text/html": [
       "<div>\n",
       "<style scoped>\n",
       "    .dataframe tbody tr th:only-of-type {\n",
       "        vertical-align: middle;\n",
       "    }\n",
       "\n",
       "    .dataframe tbody tr th {\n",
       "        vertical-align: top;\n",
       "    }\n",
       "\n",
       "    .dataframe thead th {\n",
       "        text-align: right;\n",
       "    }\n",
       "</style>\n",
       "<table border=\"1\" class=\"dataframe\">\n",
       "  <thead>\n",
       "    <tr style=\"text-align: right;\">\n",
       "      <th></th>\n",
       "      <th>event_time</th>\n",
       "      <th>event_type</th>\n",
       "      <th>product_id</th>\n",
       "      <th>category_id</th>\n",
       "      <th>category_code</th>\n",
       "      <th>brand</th>\n",
       "      <th>price</th>\n",
       "      <th>user_id</th>\n",
       "      <th>user_session</th>\n",
       "    </tr>\n",
       "  </thead>\n",
       "  <tbody>\n",
       "    <tr>\n",
       "      <th>0</th>\n",
       "      <td>2019-11-01 00:00:00 UTC</td>\n",
       "      <td>view</td>\n",
       "      <td>1003461</td>\n",
       "      <td>2053013555631882655</td>\n",
       "      <td>electronics.smartphone</td>\n",
       "      <td>xiaomi</td>\n",
       "      <td>489.07</td>\n",
       "      <td>520088904</td>\n",
       "      <td>4d3b30da-a5e4-49df-b1a8-ba5943f1dd33</td>\n",
       "    </tr>\n",
       "    <tr>\n",
       "      <th>1</th>\n",
       "      <td>2019-11-01 00:00:00 UTC</td>\n",
       "      <td>view</td>\n",
       "      <td>5000088</td>\n",
       "      <td>2053013566100866035</td>\n",
       "      <td>appliances.sewing_machine</td>\n",
       "      <td>janome</td>\n",
       "      <td>293.65</td>\n",
       "      <td>530496790</td>\n",
       "      <td>8e5f4f83-366c-4f70-860e-ca7417414283</td>\n",
       "    </tr>\n",
       "    <tr>\n",
       "      <th>2</th>\n",
       "      <td>2019-11-01 00:00:01 UTC</td>\n",
       "      <td>view</td>\n",
       "      <td>17302664</td>\n",
       "      <td>2053013553853497655</td>\n",
       "      <td>NaN</td>\n",
       "      <td>creed</td>\n",
       "      <td>28.31</td>\n",
       "      <td>561587266</td>\n",
       "      <td>755422e7-9040-477b-9bd2-6a6e8fd97387</td>\n",
       "    </tr>\n",
       "    <tr>\n",
       "      <th>3</th>\n",
       "      <td>2019-11-01 00:00:01 UTC</td>\n",
       "      <td>view</td>\n",
       "      <td>3601530</td>\n",
       "      <td>2053013563810775923</td>\n",
       "      <td>appliances.kitchen.washer</td>\n",
       "      <td>lg</td>\n",
       "      <td>712.87</td>\n",
       "      <td>518085591</td>\n",
       "      <td>3bfb58cd-7892-48cc-8020-2f17e6de6e7f</td>\n",
       "    </tr>\n",
       "    <tr>\n",
       "      <th>4</th>\n",
       "      <td>2019-11-01 00:00:01 UTC</td>\n",
       "      <td>view</td>\n",
       "      <td>1004775</td>\n",
       "      <td>2053013555631882655</td>\n",
       "      <td>electronics.smartphone</td>\n",
       "      <td>xiaomi</td>\n",
       "      <td>183.27</td>\n",
       "      <td>558856683</td>\n",
       "      <td>313628f1-68b8-460d-84f6-cec7a8796ef2</td>\n",
       "    </tr>\n",
       "  </tbody>\n",
       "</table>\n",
       "</div>"
      ],
      "text/plain": [
       "                event_time event_type  product_id          category_id  \\\n",
       "0  2019-11-01 00:00:00 UTC       view     1003461  2053013555631882655   \n",
       "1  2019-11-01 00:00:00 UTC       view     5000088  2053013566100866035   \n",
       "2  2019-11-01 00:00:01 UTC       view    17302664  2053013553853497655   \n",
       "3  2019-11-01 00:00:01 UTC       view     3601530  2053013563810775923   \n",
       "4  2019-11-01 00:00:01 UTC       view     1004775  2053013555631882655   \n",
       "\n",
       "               category_code   brand   price    user_id  \\\n",
       "0     electronics.smartphone  xiaomi  489.07  520088904   \n",
       "1  appliances.sewing_machine  janome  293.65  530496790   \n",
       "2                        NaN   creed   28.31  561587266   \n",
       "3  appliances.kitchen.washer      lg  712.87  518085591   \n",
       "4     electronics.smartphone  xiaomi  183.27  558856683   \n",
       "\n",
       "                           user_session  \n",
       "0  4d3b30da-a5e4-49df-b1a8-ba5943f1dd33  \n",
       "1  8e5f4f83-366c-4f70-860e-ca7417414283  \n",
       "2  755422e7-9040-477b-9bd2-6a6e8fd97387  \n",
       "3  3bfb58cd-7892-48cc-8020-2f17e6de6e7f  \n",
       "4  313628f1-68b8-460d-84f6-cec7a8796ef2  "
      ]
     },
     "execution_count": 40,
     "metadata": {},
     "output_type": "execute_result"
    }
   ],
   "source": [
    "df.head()"
   ]
  },
  {
   "cell_type": "code",
   "execution_count": 41,
   "id": "275baae9",
   "metadata": {},
   "outputs": [
    {
     "data": {
      "text/plain": [
       "(67501979, 9)"
      ]
     },
     "execution_count": 41,
     "metadata": {},
     "output_type": "execute_result"
    }
   ],
   "source": [
    "df.shape"
   ]
  },
  {
   "cell_type": "code",
   "execution_count": 42,
   "id": "ed8753a0",
   "metadata": {},
   "outputs": [
    {
     "name": "stdout",
     "output_type": "stream",
     "text": [
      "<class 'pandas.core.frame.DataFrame'>\n",
      "RangeIndex: 67501979 entries, 0 to 67501978\n",
      "Data columns (total 9 columns):\n",
      " #   Column         Dtype  \n",
      "---  ------         -----  \n",
      " 0   event_time     object \n",
      " 1   event_type     object \n",
      " 2   product_id     int64  \n",
      " 3   category_id    int64  \n",
      " 4   category_code  object \n",
      " 5   brand          object \n",
      " 6   price          float64\n",
      " 7   user_id        int64  \n",
      " 8   user_session   object \n",
      "dtypes: float64(1), int64(3), object(5)\n",
      "memory usage: 4.5+ GB\n"
     ]
    }
   ],
   "source": [
    "df.info()"
   ]
  },
  {
   "cell_type": "code",
   "execution_count": 43,
   "id": "9adc54ba",
   "metadata": {},
   "outputs": [
    {
     "data": {
      "text/html": [
       "<div>\n",
       "<style scoped>\n",
       "    .dataframe tbody tr th:only-of-type {\n",
       "        vertical-align: middle;\n",
       "    }\n",
       "\n",
       "    .dataframe tbody tr th {\n",
       "        vertical-align: top;\n",
       "    }\n",
       "\n",
       "    .dataframe thead th {\n",
       "        text-align: right;\n",
       "    }\n",
       "</style>\n",
       "<table border=\"1\" class=\"dataframe\">\n",
       "  <thead>\n",
       "    <tr style=\"text-align: right;\">\n",
       "      <th></th>\n",
       "      <th>product_id</th>\n",
       "      <th>category_id</th>\n",
       "      <th>price</th>\n",
       "      <th>user_id</th>\n",
       "    </tr>\n",
       "  </thead>\n",
       "  <tbody>\n",
       "    <tr>\n",
       "      <th>count</th>\n",
       "      <td>6.750198e+07</td>\n",
       "      <td>6.750198e+07</td>\n",
       "      <td>6.750198e+07</td>\n",
       "      <td>6.750198e+07</td>\n",
       "    </tr>\n",
       "    <tr>\n",
       "      <th>mean</th>\n",
       "      <td>1.251406e+07</td>\n",
       "      <td>2.057898e+18</td>\n",
       "      <td>2.924593e+02</td>\n",
       "      <td>5.386397e+08</td>\n",
       "    </tr>\n",
       "    <tr>\n",
       "      <th>std</th>\n",
       "      <td>1.725741e+07</td>\n",
       "      <td>2.012549e+16</td>\n",
       "      <td>3.556745e+02</td>\n",
       "      <td>2.288516e+07</td>\n",
       "    </tr>\n",
       "    <tr>\n",
       "      <th>min</th>\n",
       "      <td>1.000365e+06</td>\n",
       "      <td>2.053014e+18</td>\n",
       "      <td>0.000000e+00</td>\n",
       "      <td>1.030022e+07</td>\n",
       "    </tr>\n",
       "    <tr>\n",
       "      <th>25%</th>\n",
       "      <td>1.305977e+06</td>\n",
       "      <td>2.053014e+18</td>\n",
       "      <td>6.924000e+01</td>\n",
       "      <td>5.164762e+08</td>\n",
       "    </tr>\n",
       "    <tr>\n",
       "      <th>50%</th>\n",
       "      <td>5.100568e+06</td>\n",
       "      <td>2.053014e+18</td>\n",
       "      <td>1.657700e+02</td>\n",
       "      <td>5.350573e+08</td>\n",
       "    </tr>\n",
       "    <tr>\n",
       "      <th>75%</th>\n",
       "      <td>1.730075e+07</td>\n",
       "      <td>2.053014e+18</td>\n",
       "      <td>3.603400e+02</td>\n",
       "      <td>5.610794e+08</td>\n",
       "    </tr>\n",
       "    <tr>\n",
       "      <th>max</th>\n",
       "      <td>1.000286e+08</td>\n",
       "      <td>2.187708e+18</td>\n",
       "      <td>2.574070e+03</td>\n",
       "      <td>5.799699e+08</td>\n",
       "    </tr>\n",
       "  </tbody>\n",
       "</table>\n",
       "</div>"
      ],
      "text/plain": [
       "         product_id   category_id         price       user_id\n",
       "count  6.750198e+07  6.750198e+07  6.750198e+07  6.750198e+07\n",
       "mean   1.251406e+07  2.057898e+18  2.924593e+02  5.386397e+08\n",
       "std    1.725741e+07  2.012549e+16  3.556745e+02  2.288516e+07\n",
       "min    1.000365e+06  2.053014e+18  0.000000e+00  1.030022e+07\n",
       "25%    1.305977e+06  2.053014e+18  6.924000e+01  5.164762e+08\n",
       "50%    5.100568e+06  2.053014e+18  1.657700e+02  5.350573e+08\n",
       "75%    1.730075e+07  2.053014e+18  3.603400e+02  5.610794e+08\n",
       "max    1.000286e+08  2.187708e+18  2.574070e+03  5.799699e+08"
      ]
     },
     "execution_count": 43,
     "metadata": {},
     "output_type": "execute_result"
    }
   ],
   "source": [
    "df.describe()"
   ]
  },
  {
   "cell_type": "code",
   "execution_count": 44,
   "id": "4c55d3a0",
   "metadata": {},
   "outputs": [
    {
     "name": "stdout",
     "output_type": "stream",
     "text": [
      "event_time              0\n",
      "event_type              0\n",
      "product_id              0\n",
      "category_id             0\n",
      "category_code    21898171\n",
      "brand             9224078\n",
      "price                   0\n",
      "user_id                 0\n",
      "user_session           10\n",
      "dtype: int64\n"
     ]
    }
   ],
   "source": [
    "missing_data = df.isnull().sum()\n",
    "print(missing_data)"
   ]
  },
  {
   "cell_type": "code",
   "execution_count": 45,
   "id": "5c3ea486",
   "metadata": {},
   "outputs": [
    {
     "data": {
      "text/plain": [
       "True"
      ]
     },
     "execution_count": 45,
     "metadata": {},
     "output_type": "execute_result"
    }
   ],
   "source": [
    "#check if all category_id which equal to 2053013555631882655 belong to electronics.smartphone category_code\n",
    "#so we could drop category code column because it has redundant information (the same info is in category_code)\n",
    "#and missing values\n",
    "all(df.loc[df.category_id == 2053013555631882655]['category_code'] == 'electronics.smartphone')"
   ]
  },
  {
   "cell_type": "code",
   "execution_count": 47,
   "id": "a4703760",
   "metadata": {},
   "outputs": [
    {
     "data": {
      "text/plain": [
       "100519"
      ]
     },
     "execution_count": 47,
     "metadata": {},
     "output_type": "execute_result"
    }
   ],
   "source": [
    "df.duplicated().sum()"
   ]
  },
  {
   "cell_type": "code",
   "execution_count": 48,
   "id": "7429cbcb",
   "metadata": {},
   "outputs": [],
   "source": [
    "df.drop_duplicates(inplace=True)"
   ]
  },
  {
   "cell_type": "code",
   "execution_count": 49,
   "id": "e3d2bbfe",
   "metadata": {},
   "outputs": [],
   "source": [
    "df['event_time'] = pd.to_datetime(df['event_time'])"
   ]
  },
  {
   "cell_type": "code",
   "execution_count": 50,
   "id": "dfe92a59",
   "metadata": {},
   "outputs": [],
   "source": [
    "df['day'] = df['event_time'].dt.day"
   ]
  },
  {
   "cell_type": "code",
   "execution_count": 51,
   "id": "f4f7ff52",
   "metadata": {},
   "outputs": [],
   "source": [
    "df['weekday'] = df['event_time'].dt.weekday"
   ]
  },
  {
   "cell_type": "code",
   "execution_count": 52,
   "id": "88b0f388",
   "metadata": {},
   "outputs": [
    {
     "data": {
      "text/plain": [
       "event_time       datetime64[ns, UTC]\n",
       "event_type                    object\n",
       "product_id                     int64\n",
       "category_id                    int64\n",
       "category_code                 object\n",
       "brand                         object\n",
       "price                        float64\n",
       "user_id                        int64\n",
       "user_session                  object\n",
       "day                            int64\n",
       "weekday                        int64\n",
       "dtype: object"
      ]
     },
     "execution_count": 52,
     "metadata": {},
     "output_type": "execute_result"
    }
   ],
   "source": [
    "df.dtypes"
   ]
  },
  {
   "cell_type": "code",
   "execution_count": 53,
   "id": "6b68aae2",
   "metadata": {},
   "outputs": [
    {
     "data": {
      "text/plain": [
       "view        63554512\n",
       "cart         2930018\n",
       "purchase      916930\n",
       "Name: event_type, dtype: int64"
      ]
     },
     "execution_count": 53,
     "metadata": {},
     "output_type": "execute_result"
    }
   ],
   "source": [
    "df.event_type.value_counts()"
   ]
  },
  {
   "cell_type": "code",
   "execution_count": 54,
   "id": "3150d817",
   "metadata": {},
   "outputs": [
    {
     "data": {
      "text/plain": [
       "samsung         7864090\n",
       "apple           6246475\n",
       "xiaomi          4630595\n",
       "huawei          1407728\n",
       "lucente         1183398\n",
       "                 ...   \n",
       "gladiator             1\n",
       "arba                  1\n",
       "luciasvetlaa          1\n",
       "della                 1\n",
       "nowodvorski           1\n",
       "Name: brand, Length: 4200, dtype: int64"
      ]
     },
     "execution_count": 54,
     "metadata": {},
     "output_type": "execute_result"
    }
   ],
   "source": [
    "df.brand.value_counts()"
   ]
  },
  {
   "cell_type": "code",
   "execution_count": 57,
   "id": "e140c4c6",
   "metadata": {},
   "outputs": [],
   "source": [
    "df = pd.get_dummies(df, columns=['event_type'])"
   ]
  },
  {
   "cell_type": "code",
   "execution_count": 61,
   "id": "2116baf8",
   "metadata": {},
   "outputs": [
    {
     "data": {
      "text/plain": [
       "event_time             datetime64[ns, UTC]\n",
       "product_id                           int64\n",
       "category_id                          int64\n",
       "category_code                       object\n",
       "brand                               object\n",
       "price                              float64\n",
       "user_id                              int64\n",
       "user_session                        object\n",
       "day                                  int64\n",
       "weekday                              int64\n",
       "event_type_cart                      uint8\n",
       "event_type_purchase                  uint8\n",
       "event_type_view                      uint8\n",
       "dtype: object"
      ]
     },
     "execution_count": 61,
     "metadata": {},
     "output_type": "execute_result"
    }
   ],
   "source": [
    "df.dtypes"
   ]
  },
  {
   "cell_type": "code",
   "execution_count": 62,
   "id": "92584dc7",
   "metadata": {},
   "outputs": [
    {
     "data": {
      "image/png": "[encoded data removed]",
      "text/plain": [
       "<Figure size 432x288 with 1 Axes>"
      ]
     },
     "metadata": {
      "needs_background": "light"
     },
     "output_type": "display_data"
    }
   ],
   "source": [
    "plt.boxplot(df['price'])\n",
    "plt.show()"
   ]
  },
  {
   "cell_type": "code",
   "execution_count": 63,
   "id": "ab042a0c",
   "metadata": {},
   "outputs": [
    {
     "data": {
      "text/plain": [
       "992.16"
      ]
     },
     "execution_count": 63,
     "metadata": {},
     "output_type": "execute_result"
    }
   ],
   "source": [
    "df['price'].quantile(0.95)"
   ]
  },
  {
   "cell_type": "code",
   "execution_count": 64,
   "id": "92465643",
   "metadata": {},
   "outputs": [],
   "source": [
    "# Create categorical bins from a numeric column\n",
    "df['price_category'] = pd.cut(df['price'], bins=[0, 992.16, df['price'].max()], labels=['Regular_price', 'High_price'])"
   ]
  },
  {
   "cell_type": "code",
   "execution_count": 65,
   "id": "bb260a90",
   "metadata": {},
   "outputs": [
    {
     "data": {
      "text/html": [
       "<div>\n",
       "<style scoped>\n",
       "    .dataframe tbody tr th:only-of-type {\n",
       "        vertical-align: middle;\n",
       "    }\n",
       "\n",
       "    .dataframe tbody tr th {\n",
       "        vertical-align: top;\n",
       "    }\n",
       "\n",
       "    .dataframe thead th {\n",
       "        text-align: right;\n",
       "    }\n",
       "</style>\n",
       "<table border=\"1\" class=\"dataframe\">\n",
       "  <thead>\n",
       "    <tr style=\"text-align: right;\">\n",
       "      <th></th>\n",
       "      <th>event_time</th>\n",
       "      <th>product_id</th>\n",
       "      <th>category_id</th>\n",
       "      <th>category_code</th>\n",
       "      <th>brand</th>\n",
       "      <th>price</th>\n",
       "      <th>user_id</th>\n",
       "      <th>user_session</th>\n",
       "      <th>day</th>\n",
       "      <th>weekday</th>\n",
       "      <th>event_type_cart</th>\n",
       "      <th>event_type_purchase</th>\n",
       "      <th>event_type_view</th>\n",
       "      <th>price_category</th>\n",
       "    </tr>\n",
       "  </thead>\n",
       "  <tbody>\n",
       "    <tr>\n",
       "      <th>0</th>\n",
       "      <td>2019-11-01 00:00:00+00:00</td>\n",
       "      <td>1003461</td>\n",
       "      <td>2053013555631882655</td>\n",
       "      <td>electronics.smartphone</td>\n",
       "      <td>xiaomi</td>\n",
       "      <td>489.07</td>\n",
       "      <td>520088904</td>\n",
       "      <td>4d3b30da-a5e4-49df-b1a8-ba5943f1dd33</td>\n",
       "      <td>1</td>\n",
       "      <td>4</td>\n",
       "      <td>0</td>\n",
       "      <td>0</td>\n",
       "      <td>1</td>\n",
       "      <td>Regular_price</td>\n",
       "    </tr>\n",
       "    <tr>\n",
       "      <th>1</th>\n",
       "      <td>2019-11-01 00:00:00+00:00</td>\n",
       "      <td>5000088</td>\n",
       "      <td>2053013566100866035</td>\n",
       "      <td>appliances.sewing_machine</td>\n",
       "      <td>janome</td>\n",
       "      <td>293.65</td>\n",
       "      <td>530496790</td>\n",
       "      <td>8e5f4f83-366c-4f70-860e-ca7417414283</td>\n",
       "      <td>1</td>\n",
       "      <td>4</td>\n",
       "      <td>0</td>\n",
       "      <td>0</td>\n",
       "      <td>1</td>\n",
       "      <td>Regular_price</td>\n",
       "    </tr>\n",
       "    <tr>\n",
       "      <th>2</th>\n",
       "      <td>2019-11-01 00:00:01+00:00</td>\n",
       "      <td>17302664</td>\n",
       "      <td>2053013553853497655</td>\n",
       "      <td>NaN</td>\n",
       "      <td>creed</td>\n",
       "      <td>28.31</td>\n",
       "      <td>561587266</td>\n",
       "      <td>755422e7-9040-477b-9bd2-6a6e8fd97387</td>\n",
       "      <td>1</td>\n",
       "      <td>4</td>\n",
       "      <td>0</td>\n",
       "      <td>0</td>\n",
       "      <td>1</td>\n",
       "      <td>Regular_price</td>\n",
       "    </tr>\n",
       "    <tr>\n",
       "      <th>3</th>\n",
       "      <td>2019-11-01 00:00:01+00:00</td>\n",
       "      <td>3601530</td>\n",
       "      <td>2053013563810775923</td>\n",
       "      <td>appliances.kitchen.washer</td>\n",
       "      <td>lg</td>\n",
       "      <td>712.87</td>\n",
       "      <td>518085591</td>\n",
       "      <td>3bfb58cd-7892-48cc-8020-2f17e6de6e7f</td>\n",
       "      <td>1</td>\n",
       "      <td>4</td>\n",
       "      <td>0</td>\n",
       "      <td>0</td>\n",
       "      <td>1</td>\n",
       "      <td>Regular_price</td>\n",
       "    </tr>\n",
       "    <tr>\n",
       "      <th>4</th>\n",
       "      <td>2019-11-01 00:00:01+00:00</td>\n",
       "      <td>1004775</td>\n",
       "      <td>2053013555631882655</td>\n",
       "      <td>electronics.smartphone</td>\n",
       "      <td>xiaomi</td>\n",
       "      <td>183.27</td>\n",
       "      <td>558856683</td>\n",
       "      <td>313628f1-68b8-460d-84f6-cec7a8796ef2</td>\n",
       "      <td>1</td>\n",
       "      <td>4</td>\n",
       "      <td>0</td>\n",
       "      <td>0</td>\n",
       "      <td>1</td>\n",
       "      <td>Regular_price</td>\n",
       "    </tr>\n",
       "  </tbody>\n",
       "</table>\n",
       "</div>"
      ],
      "text/plain": [
       "                 event_time  product_id          category_id  \\\n",
       "0 2019-11-01 00:00:00+00:00     1003461  2053013555631882655   \n",
       "1 2019-11-01 00:00:00+00:00     5000088  2053013566100866035   \n",
       "2 2019-11-01 00:00:01+00:00    17302664  2053013553853497655   \n",
       "3 2019-11-01 00:00:01+00:00     3601530  2053013563810775923   \n",
       "4 2019-11-01 00:00:01+00:00     1004775  2053013555631882655   \n",
       "\n",
       "               category_code   brand   price    user_id  \\\n",
       "0     electronics.smartphone  xiaomi  489.07  520088904   \n",
       "1  appliances.sewing_machine  janome  293.65  530496790   \n",
       "2                        NaN   creed   28.31  561587266   \n",
       "3  appliances.kitchen.washer      lg  712.87  518085591   \n",
       "4     electronics.smartphone  xiaomi  183.27  558856683   \n",
       "\n",
       "                           user_session  day  weekday  event_type_cart  \\\n",
       "0  4d3b30da-a5e4-49df-b1a8-ba5943f1dd33    1        4                0   \n",
       "1  8e5f4f83-366c-4f70-860e-ca7417414283    1        4                0   \n",
       "2  755422e7-9040-477b-9bd2-6a6e8fd97387    1        4                0   \n",
       "3  3bfb58cd-7892-48cc-8020-2f17e6de6e7f    1        4                0   \n",
       "4  313628f1-68b8-460d-84f6-cec7a8796ef2    1        4                0   \n",
       "\n",
       "   event_type_purchase  event_type_view price_category  \n",
       "0                    0                1  Regular_price  \n",
       "1                    0                1  Regular_price  \n",
       "2                    0                1  Regular_price  \n",
       "3                    0                1  Regular_price  \n",
       "4                    0                1  Regular_price  "
      ]
     },
     "execution_count": 65,
     "metadata": {},
     "output_type": "execute_result"
    }
   ],
   "source": [
    "df.head()"
   ]
  },
  {
   "cell_type": "code",
   "execution_count": 66,
   "id": "3255b668",
   "metadata": {},
   "outputs": [],
   "source": [
    "df.to_csv(\"cleaned_data.csv\", index=False)"
   ]
  },
  {
   "cell_type": "code",
   "execution_count": 67,
   "id": "ff47714b",
   "metadata": {},
   "outputs": [],
   "source": [
    "# Aggregate sales by day\n",
    "day_sales = df.groupby('day')['price'].sum()"
   ]
  },
  {
   "cell_type": "code",
   "execution_count": 68,
   "id": "b4f4a2cb",
   "metadata": {},
   "outputs": [
    {
     "data": {
      "text/plain": [
       "day\n",
       "1     4.255417e+08\n",
       "2     4.546700e+08\n",
       "3     4.668842e+08\n",
       "4     5.316031e+08\n",
       "5     4.951270e+08\n",
       "6     4.894839e+08\n",
       "7     5.124538e+08\n",
       "8     5.540806e+08\n",
       "9     5.457345e+08\n",
       "10    5.701244e+08\n",
       "11    5.790556e+08\n",
       "12    5.829116e+08\n",
       "13    6.020026e+08\n",
       "14    9.919976e+08\n",
       "15    1.893429e+09\n",
       "16    1.994470e+09\n",
       "17    1.872044e+09\n",
       "18    5.845095e+08\n",
       "19    4.893616e+08\n",
       "20    4.662367e+08\n",
       "21    4.473181e+08\n",
       "22    4.373952e+08\n",
       "23    4.396618e+08\n",
       "24    4.467188e+08\n",
       "25    4.393592e+08\n",
       "26    4.548109e+08\n",
       "27    4.558206e+08\n",
       "28    4.713870e+08\n",
       "29    5.285133e+08\n",
       "30    4.910025e+08\n",
       "Name: price, dtype: float64"
      ]
     },
     "execution_count": 68,
     "metadata": {},
     "output_type": "execute_result"
    }
   ],
   "source": [
    "day_sales"
   ]
  },
  {
   "cell_type": "code",
   "execution_count": 69,
   "id": "8c2a6760",
   "metadata": {},
   "outputs": [
    {
     "data": {
      "image/png": "[encoded data removed]",
      "text/plain": [
       "<Figure size 432x288 with 1 Axes>"
      ]
     },
     "metadata": {
      "needs_background": "light"
     },
     "output_type": "display_data"
    }
   ],
   "source": [
    "plt.plot(day_sales)\n",
    "plt.grid()\n",
    "plt.show()"
   ]
  },
  {
   "cell_type": "code",
   "execution_count": 70,
   "id": "3a38c65b",
   "metadata": {},
   "outputs": [],
   "source": [
    "# Group by 'day' and count the unique 'user_id's for each day\n",
    "user_counts_by_day = df.groupby('day')['user_id'].nunique().reset_index()"
   ]
  },
  {
   "cell_type": "code",
   "execution_count": 71,
   "id": "5d2203c5",
   "metadata": {},
   "outputs": [],
   "source": [
    "# Rename the columns for clarity\n",
    "user_counts_by_day.columns = ['day', 'user_count']"
   ]
  },
  {
   "cell_type": "code",
   "execution_count": 72,
   "id": "0cfcc54b",
   "metadata": {},
   "outputs": [
    {
     "data": {
      "text/html": [
       "<div>\n",
       "<style scoped>\n",
       "    .dataframe tbody tr th:only-of-type {\n",
       "        vertical-align: middle;\n",
       "    }\n",
       "\n",
       "    .dataframe tbody tr th {\n",
       "        vertical-align: top;\n",
       "    }\n",
       "\n",
       "    .dataframe thead th {\n",
       "        text-align: right;\n",
       "    }\n",
       "</style>\n",
       "<table border=\"1\" class=\"dataframe\">\n",
       "  <thead>\n",
       "    <tr style=\"text-align: right;\">\n",
       "      <th></th>\n",
       "      <th>day</th>\n",
       "      <th>user_count</th>\n",
       "    </tr>\n",
       "  </thead>\n",
       "  <tbody>\n",
       "    <tr>\n",
       "      <th>0</th>\n",
       "      <td>1</td>\n",
       "      <td>223108</td>\n",
       "    </tr>\n",
       "    <tr>\n",
       "      <th>1</th>\n",
       "      <td>2</td>\n",
       "      <td>234685</td>\n",
       "    </tr>\n",
       "    <tr>\n",
       "      <th>2</th>\n",
       "      <td>3</td>\n",
       "      <td>240187</td>\n",
       "    </tr>\n",
       "    <tr>\n",
       "      <th>3</th>\n",
       "      <td>4</td>\n",
       "      <td>275612</td>\n",
       "    </tr>\n",
       "    <tr>\n",
       "      <th>4</th>\n",
       "      <td>5</td>\n",
       "      <td>262338</td>\n",
       "    </tr>\n",
       "    <tr>\n",
       "      <th>5</th>\n",
       "      <td>6</td>\n",
       "      <td>256887</td>\n",
       "    </tr>\n",
       "    <tr>\n",
       "      <th>6</th>\n",
       "      <td>7</td>\n",
       "      <td>278988</td>\n",
       "    </tr>\n",
       "    <tr>\n",
       "      <th>7</th>\n",
       "      <td>8</td>\n",
       "      <td>286053</td>\n",
       "    </tr>\n",
       "    <tr>\n",
       "      <th>8</th>\n",
       "      <td>9</td>\n",
       "      <td>268643</td>\n",
       "    </tr>\n",
       "    <tr>\n",
       "      <th>9</th>\n",
       "      <td>10</td>\n",
       "      <td>276198</td>\n",
       "    </tr>\n",
       "    <tr>\n",
       "      <th>10</th>\n",
       "      <td>11</td>\n",
       "      <td>292400</td>\n",
       "    </tr>\n",
       "    <tr>\n",
       "      <th>11</th>\n",
       "      <td>12</td>\n",
       "      <td>285994</td>\n",
       "    </tr>\n",
       "    <tr>\n",
       "      <th>12</th>\n",
       "      <td>13</td>\n",
       "      <td>285408</td>\n",
       "    </tr>\n",
       "    <tr>\n",
       "      <th>13</th>\n",
       "      <td>14</td>\n",
       "      <td>308842</td>\n",
       "    </tr>\n",
       "    <tr>\n",
       "      <th>14</th>\n",
       "      <td>15</td>\n",
       "      <td>379786</td>\n",
       "    </tr>\n",
       "    <tr>\n",
       "      <th>15</th>\n",
       "      <td>16</td>\n",
       "      <td>487327</td>\n",
       "    </tr>\n",
       "    <tr>\n",
       "      <th>16</th>\n",
       "      <td>17</td>\n",
       "      <td>487501</td>\n",
       "    </tr>\n",
       "    <tr>\n",
       "      <th>17</th>\n",
       "      <td>18</td>\n",
       "      <td>319537</td>\n",
       "    </tr>\n",
       "    <tr>\n",
       "      <th>18</th>\n",
       "      <td>19</td>\n",
       "      <td>290798</td>\n",
       "    </tr>\n",
       "    <tr>\n",
       "      <th>19</th>\n",
       "      <td>20</td>\n",
       "      <td>291900</td>\n",
       "    </tr>\n",
       "    <tr>\n",
       "      <th>20</th>\n",
       "      <td>21</td>\n",
       "      <td>287079</td>\n",
       "    </tr>\n",
       "    <tr>\n",
       "      <th>21</th>\n",
       "      <td>22</td>\n",
       "      <td>249401</td>\n",
       "    </tr>\n",
       "    <tr>\n",
       "      <th>22</th>\n",
       "      <td>23</td>\n",
       "      <td>249362</td>\n",
       "    </tr>\n",
       "    <tr>\n",
       "      <th>23</th>\n",
       "      <td>24</td>\n",
       "      <td>240526</td>\n",
       "    </tr>\n",
       "    <tr>\n",
       "      <th>24</th>\n",
       "      <td>25</td>\n",
       "      <td>257613</td>\n",
       "    </tr>\n",
       "    <tr>\n",
       "      <th>25</th>\n",
       "      <td>26</td>\n",
       "      <td>252527</td>\n",
       "    </tr>\n",
       "    <tr>\n",
       "      <th>26</th>\n",
       "      <td>27</td>\n",
       "      <td>256546</td>\n",
       "    </tr>\n",
       "    <tr>\n",
       "      <th>27</th>\n",
       "      <td>28</td>\n",
       "      <td>253979</td>\n",
       "    </tr>\n",
       "    <tr>\n",
       "      <th>28</th>\n",
       "      <td>29</td>\n",
       "      <td>286699</td>\n",
       "    </tr>\n",
       "    <tr>\n",
       "      <th>29</th>\n",
       "      <td>30</td>\n",
       "      <td>255497</td>\n",
       "    </tr>\n",
       "  </tbody>\n",
       "</table>\n",
       "</div>"
      ],
      "text/plain": [
       "    day  user_count\n",
       "0     1      223108\n",
       "1     2      234685\n",
       "2     3      240187\n",
       "3     4      275612\n",
       "4     5      262338\n",
       "5     6      256887\n",
       "6     7      278988\n",
       "7     8      286053\n",
       "8     9      268643\n",
       "9    10      276198\n",
       "10   11      292400\n",
       "11   12      285994\n",
       "12   13      285408\n",
       "13   14      308842\n",
       "14   15      379786\n",
       "15   16      487327\n",
       "16   17      487501\n",
       "17   18      319537\n",
       "18   19      290798\n",
       "19   20      291900\n",
       "20   21      287079\n",
       "21   22      249401\n",
       "22   23      249362\n",
       "23   24      240526\n",
       "24   25      257613\n",
       "25   26      252527\n",
       "26   27      256546\n",
       "27   28      253979\n",
       "28   29      286699\n",
       "29   30      255497"
      ]
     },
     "execution_count": 72,
     "metadata": {},
     "output_type": "execute_result"
    }
   ],
   "source": [
    "user_counts_by_day"
   ]
  },
  {
   "cell_type": "code",
   "execution_count": 73,
   "id": "a0810f46",
   "metadata": {},
   "outputs": [
    {
     "data": {
      "image/png": "[encoded data removed]",
      "text/plain": [
       "<Figure size 432x288 with 1 Axes>"
      ]
     },
     "metadata": {
      "needs_background": "light"
     },
     "output_type": "display_data"
    }
   ],
   "source": [
    "plt.plot(user_counts_by_day['user_count'])\n",
    "plt.grid()\n",
    "plt.show()"
   ]
  },
  {
   "cell_type": "code",
   "execution_count": 79,
   "id": "4db2ed9c",
   "metadata": {},
   "outputs": [
    {
     "data": {
      "image/png": "[encoded data removed]",
      "text/plain": [
       "<Figure size 1152x720 with 1 Axes>"
      ]
     },
     "metadata": {
      "needs_background": "light"
     },
     "output_type": "display_data"
    }
   ],
   "source": [
    "plt.figure(figsize = (16, 10))\n",
    "top_category_n = 30\n",
    "top_category = df.loc[:,'category_code'].value_counts()[:top_category_n].sort_values(ascending=False)\n",
    "squarify.plot(sizes=top_category, label=top_category.index.array, color=[\"red\",\"cyan\",\"green\",\"orange\",\"blue\",\"grey\"], alpha=.7  )\n",
    "plt.axis('off')\n",
    "plt.show()"
   ]
  },
  {
   "cell_type": "code",
   "execution_count": 109,
   "id": "00caff6e",
   "metadata": {},
   "outputs": [
    {
     "data": {
      "image/png": "[encoded data removed]",
      "text/plain": [
       "<Figure size 576x576 with 1 Axes>"
      ]
     },
     "metadata": {},
     "output_type": "display_data"
    }
   ],
   "source": [
    "labels = ['view', 'cart','purchase'] \n",
    "size = [data['event_type_view'].sum(), data['event_type_cart'].sum(),data['event_type_purchase'].sum()]\n",
    "colors = ['yellowgreen', 'lightskyblue','lightcoral']\n",
    "explode = [0, 0.1,0.1]\n",
    "\n",
    "plt.rcParams['figure.figsize'] = (8, 8)\n",
    "plt.pie(size, colors = colors, explode = explode, labels = labels, shadow = True, autopct = '%.2f%%')\n",
    "plt.title('Event_Type', fontsize = 20)\n",
    "plt.axis('off')\n",
    "plt.legend()\n",
    "plt.show()"
   ]
  },
  {
   "cell_type": "code",
   "execution_count": 90,
   "id": "98d88ac0",
   "metadata": {},
   "outputs": [
    {
     "data": {
      "text/html": [
       "<div>\n",
       "<style scoped>\n",
       "    .dataframe tbody tr th:only-of-type {\n",
       "        vertical-align: middle;\n",
       "    }\n",
       "\n",
       "    .dataframe tbody tr th {\n",
       "        vertical-align: top;\n",
       "    }\n",
       "\n",
       "    .dataframe thead th {\n",
       "        text-align: right;\n",
       "    }\n",
       "</style>\n",
       "<table border=\"1\" class=\"dataframe\">\n",
       "  <thead>\n",
       "    <tr style=\"text-align: right;\">\n",
       "      <th></th>\n",
       "      <th>count</th>\n",
       "    </tr>\n",
       "    <tr>\n",
       "      <th>brand</th>\n",
       "      <th></th>\n",
       "    </tr>\n",
       "  </thead>\n",
       "  <tbody>\n",
       "    <tr>\n",
       "      <th>samsung</th>\n",
       "      <td>198669</td>\n",
       "    </tr>\n",
       "    <tr>\n",
       "      <th>apple</th>\n",
       "      <td>165681</td>\n",
       "    </tr>\n",
       "    <tr>\n",
       "      <th>xiaomi</th>\n",
       "      <td>57908</td>\n",
       "    </tr>\n",
       "    <tr>\n",
       "      <th>huawei</th>\n",
       "      <td>23466</td>\n",
       "    </tr>\n",
       "    <tr>\n",
       "      <th>oppo</th>\n",
       "      <td>15080</td>\n",
       "    </tr>\n",
       "    <tr>\n",
       "      <th>lg</th>\n",
       "      <td>11828</td>\n",
       "    </tr>\n",
       "    <tr>\n",
       "      <th>artel</th>\n",
       "      <td>7267</td>\n",
       "    </tr>\n",
       "    <tr>\n",
       "      <th>lenovo</th>\n",
       "      <td>6546</td>\n",
       "    </tr>\n",
       "    <tr>\n",
       "      <th>acer</th>\n",
       "      <td>6402</td>\n",
       "    </tr>\n",
       "    <tr>\n",
       "      <th>bosch</th>\n",
       "      <td>5718</td>\n",
       "    </tr>\n",
       "    <tr>\n",
       "      <th>indesit</th>\n",
       "      <td>5187</td>\n",
       "    </tr>\n",
       "    <tr>\n",
       "      <th>respect</th>\n",
       "      <td>4557</td>\n",
       "    </tr>\n",
       "    <tr>\n",
       "      <th>hp</th>\n",
       "      <td>4002</td>\n",
       "    </tr>\n",
       "    <tr>\n",
       "      <th>midea</th>\n",
       "      <td>3984</td>\n",
       "    </tr>\n",
       "    <tr>\n",
       "      <th>elenberg</th>\n",
       "      <td>3944</td>\n",
       "    </tr>\n",
       "    <tr>\n",
       "      <th>haier</th>\n",
       "      <td>3826</td>\n",
       "    </tr>\n",
       "    <tr>\n",
       "      <th>beko</th>\n",
       "      <td>3813</td>\n",
       "    </tr>\n",
       "    <tr>\n",
       "      <th>casio</th>\n",
       "      <td>3477</td>\n",
       "    </tr>\n",
       "    <tr>\n",
       "      <th>tefal</th>\n",
       "      <td>3343</td>\n",
       "    </tr>\n",
       "    <tr>\n",
       "      <th>vitek</th>\n",
       "      <td>3095</td>\n",
       "    </tr>\n",
       "  </tbody>\n",
       "</table>\n",
       "</div>"
      ],
      "text/plain": [
       "           count\n",
       "brand           \n",
       "samsung   198669\n",
       "apple     165681\n",
       "xiaomi     57908\n",
       "huawei     23466\n",
       "oppo       15080\n",
       "lg         11828\n",
       "artel       7267\n",
       "lenovo      6546\n",
       "acer        6402\n",
       "bosch       5718\n",
       "indesit     5187\n",
       "respect     4557\n",
       "hp          4002\n",
       "midea       3984\n",
       "elenberg    3944\n",
       "haier       3826\n",
       "beko        3813\n",
       "casio       3477\n",
       "tefal       3343\n",
       "vitek       3095"
      ]
     },
     "execution_count": 90,
     "metadata": {},
     "output_type": "execute_result"
    }
   ],
   "source": [
    "#find what brands sellers buy\n",
    "purchase = df.loc[data['event_type_purchase'] == 1]\n",
    "purchase = purchase.dropna(axis='rows')\n",
    "\n",
    "top_sellers = purchase.groupby('brand')['brand'].agg(['count']).sort_values('count', ascending=False)\n",
    "top_sellers.head(20)"
   ]
  },
  {
   "cell_type": "code",
   "execution_count": 91,
   "id": "82cb6b43",
   "metadata": {},
   "outputs": [
    {
     "data": {
      "image/png": "[encoded data removed]",
      "text/plain": [
       "<Figure size 576x360 with 1 Axes>"
      ]
     },
     "metadata": {
      "needs_background": "light"
     },
     "output_type": "display_data"
    }
   ],
   "source": [
    "# Histogram of prices of purchases\n",
    "\n",
    "plt.figure(figsize=(8, 5))\n",
    "sns.histplot(purchase['price'], bins=20, kde=True)\n",
    "plt.title('Distribution of Prices')\n",
    "plt.xlabel('Price')\n",
    "plt.ylabel('Frequency')\n",
    "plt.show()"
   ]
  },
  {
   "cell_type": "code",
   "execution_count": 92,
   "id": "c738c532",
   "metadata": {},
   "outputs": [
    {
     "data": {
      "image/png": "[encoded data removed]",
      "text/plain": [
       "<Figure size 720x432 with 2 Axes>"
      ]
     },
     "metadata": {
      "needs_background": "light"
     },
     "output_type": "display_data"
    }
   ],
   "source": [
    "# Correlation heatmap\n",
    "correlation_matrix = df.corr()\n",
    "plt.figure(figsize=(10, 6))\n",
    "sns.heatmap(correlation_matrix, annot=True, cmap='coolwarm')\n",
    "plt.title('Correlation Heatmap')\n",
    "plt.show()"
   ]
  },
  {
   "cell_type": "code",
   "execution_count": 94,
   "id": "3620de65",
   "metadata": {},
   "outputs": [
    {
     "data": {
      "image/png": "[encoded data removed]",
      "text/plain": [
       "<Figure size 720x432 with 1 Axes>"
      ]
     },
     "metadata": {
      "needs_background": "light"
     },
     "output_type": "display_data"
    }
   ],
   "source": [
    "# Calculate the number of purchased products per customer\n",
    "orders_per_customer = purchase.groupby('user_id')['product_id'].count().reset_index()\n",
    "\n",
    "# Visualize the distribution\n",
    "plt.figure(figsize=(10, 6))\n",
    "sns.histplot(orders_per_customer['product_id'], bins=30, kde=True)\n",
    "plt.title('Distribution of Purchased Products per Customer')\n",
    "plt.xlabel('Number of Products')\n",
    "plt.ylabel('Frequency')\n",
    "plt.show()"
   ]
  },
  {
   "cell_type": "code",
   "execution_count": 95,
   "id": "4c1c6db3",
   "metadata": {},
   "outputs": [
    {
     "data": {
      "text/plain": [
       "event_time             0\n",
       "product_id             0\n",
       "category_id            0\n",
       "category_code          0\n",
       "brand                  0\n",
       "price                  0\n",
       "user_id                0\n",
       "user_session           0\n",
       "day                    0\n",
       "weekday                0\n",
       "event_type_cart        0\n",
       "event_type_purchase    0\n",
       "event_type_view        0\n",
       "price_category         0\n",
       "dtype: int64"
      ]
     },
     "execution_count": 95,
     "metadata": {},
     "output_type": "execute_result"
    }
   ],
   "source": [
    "purchase.isna().sum()"
   ]
  },
  {
   "cell_type": "code",
   "execution_count": 96,
   "id": "50c00d09",
   "metadata": {},
   "outputs": [
    {
     "data": {
      "image/png": "[encoded data removed]",
      "text/plain": [
       "<Figure size 432x288 with 1 Axes>"
      ]
     },
     "metadata": {
      "needs_background": "light"
     },
     "output_type": "display_data"
    }
   ],
   "source": [
    "#Calculate and visualize conversion rates, i.e., the percentage of users who made a purchase after visiting \n",
    "#the website.\n",
    "\n",
    "# Calculate conversion rates \n",
    "total_visits = df['user_id'].nunique()\n",
    "total_purchases = df[df['event_type_purchase'] == 1]['user_id'].nunique()\n",
    "conversion_rate = (total_purchases / total_visits) * 100\n",
    "\n",
    "# Visualize conversion rate\n",
    "plt.figure(figsize=(6, 4))\n",
    "sns.barplot(x=['Conversion Rate'], y=[conversion_rate])\n",
    "plt.title('Website Conversion Rate')\n",
    "plt.ylabel('Percentage (%)')\n",
    "plt.show()"
   ]
  },
  {
   "cell_type": "code",
   "execution_count": 112,
   "id": "a422624b",
   "metadata": {},
   "outputs": [
    {
     "data": {
      "image/png": "[encoded data removed]",
      "text/plain": [
       "<Figure size 576x360 with 1 Axes>"
      ]
     },
     "metadata": {
      "needs_background": "light"
     },
     "output_type": "display_data"
    }
   ],
   "source": [
    "#Create a funnel analysis to understand the steps users take from visiting the site to making a purchase.\n",
    "# Define the funnel steps\n",
    "funnel_steps = ['view', 'cart', 'purchase']\n",
    "\n",
    "# Calculate the number of users at each step\n",
    "#funnel_counts = data[data['event_type'].isin(funnel_steps)].groupby('event_type')['user_id'].nunique()\n",
    "\n",
    "# Visualize the funnel\n",
    "plt.figure(figsize=(8, 5))\n",
    "sns.barplot(x=funnel_steps, y=size)\n",
    "plt.title('Customer Funnel Analysis')\n",
    "plt.xlabel('Funnel Step')\n",
    "plt.ylabel('Number of Users')\n",
    "plt.show()\n"
   ]
  }
 ],
 "metadata": {
  "kernelspec": {
   "display_name": "Python 3",
   "language": "python",
   "name": "python3"
  },
  "language_info": {
   "codemirror_mode": {
    "name": "ipython",
    "version": 3
   },
   "file_extension": ".py",
   "mimetype": "text/x-python",
   "name": "python",
   "nbconvert_exporter": "python",
   "pygments_lexer": "ipython3",
   "version": "3.8.5"
  }
 },
 "nbformat": 4,
 "nbformat_minor": 5
}
